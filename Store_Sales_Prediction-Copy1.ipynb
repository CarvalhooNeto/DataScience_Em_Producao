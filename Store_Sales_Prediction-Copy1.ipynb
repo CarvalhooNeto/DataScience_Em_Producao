{
 "cells": [
  {
   "cell_type": "markdown",
   "id": "e0141c73",
   "metadata": {},
   "source": [
    "# 0.0 - Imports"
   ]
  },
  {
   "cell_type": "code",
   "execution_count": 54,
   "id": "3d685d37",
   "metadata": {},
   "outputs": [],
   "source": [
    "import pandas as pd\n",
    "import inflection\n",
    "import numpy as np\n",
    "import math\n",
    "import seaborn as sns\n",
    "from matplotlib import pyplot as plt\n",
    "from IPython.display import Image\n",
    "from datetime import datetime, timedelta"
   ]
  },
  {
   "cell_type": "markdown",
   "id": "c512a04e",
   "metadata": {},
   "source": [
    "## 0.1 - Helper function"
   ]
  },
  {
   "cell_type": "code",
   "execution_count": 2,
   "id": "8b990527-777c-4ae0-83fb-2ff996c0108f",
   "metadata": {},
   "outputs": [],
   "source": [
    "snakecase = lambda x: inflection.underscore(x) "
   ]
  },
  {
   "cell_type": "markdown",
   "id": "7ba98fdd",
   "metadata": {},
   "source": [
    "## 0.2 - Load Dataset"
   ]
  },
  {
   "cell_type": "code",
   "execution_count": 3,
   "id": "18577910",
   "metadata": {},
   "outputs": [],
   "source": [
    "df_raw_sales = pd.read_csv('/home/aderaldo/estudos/comunidade_ds/DataScience_Em_Producao/Data/train.csv', low_memory = False)\n",
    "\n",
    "df_raw_store = pd.read_csv('/home/aderaldo/estudos/comunidade_ds/DataScience_Em_Producao/Data/store.csv', low_memory = False)\n",
    "\n",
    "df_raw = pd.merge( df_raw_sales, df_raw_store, how = 'left', on = 'Store')"
   ]
  },
  {
   "cell_type": "markdown",
   "id": "4154ed1c",
   "metadata": {},
   "source": [
    "# 1.0 - Data Description"
   ]
  },
  {
   "cell_type": "code",
   "execution_count": 41,
   "id": "8e64acf8-0d18-4025-b509-dd595cd20678",
   "metadata": {},
   "outputs": [],
   "source": [
    "df1 = df_raw.copy()"
   ]
  },
  {
   "cell_type": "markdown",
   "id": "e6c7f71d-7670-4f25-b084-1b1d817a6723",
   "metadata": {},
   "source": [
    "## 1.1 - Rename Columns"
   ]
  },
  {
   "cell_type": "code",
   "execution_count": 5,
   "id": "819823ad",
   "metadata": {},
   "outputs": [
    {
     "data": {
      "text/plain": [
       "Index(['Store', 'DayOfWeek', 'Date', 'Sales', 'Customers', 'Open', 'Promo',\n",
       "       'StateHoliday', 'SchoolHoliday', 'StoreType', 'Assortment',\n",
       "       'CompetitionDistance', 'CompetitionOpenSinceMonth',\n",
       "       'CompetitionOpenSinceYear', 'Promo2', 'Promo2SinceWeek',\n",
       "       'Promo2SinceYear', 'PromoInterval'],\n",
       "      dtype='object')"
      ]
     },
     "execution_count": 5,
     "metadata": {},
     "output_type": "execute_result"
    }
   ],
   "source": [
    "df_raw.columns"
   ]
  },
  {
   "cell_type": "code",
   "execution_count": 42,
   "id": "71a7a51d-f3dc-4d6b-b5b1-0619eecd237c",
   "metadata": {},
   "outputs": [],
   "source": [
    "old_cols = ['Store', 'DayOfWeek', 'Date', 'Sales', 'Customers', 'Open', 'Promo',\n",
    "       'StateHoliday', 'SchoolHoliday', 'StoreType', 'Assortment',\n",
    "       'CompetitionDistance', 'CompetitionOpenSinceMonth',\n",
    "       'CompetitionOpenSinceYear', 'Promo2', 'Promo2SinceWeek',\n",
    "       'Promo2SinceYear', 'PromoInterval']\n",
    "\n",
    "news_cols = list( map(snakecase, old_cols) )\n"
   ]
  },
  {
   "cell_type": "code",
   "execution_count": 43,
   "id": "d84200fd-f32d-482c-a1ee-a96c15c2d538",
   "metadata": {},
   "outputs": [],
   "source": [
    "df1.columns = news_cols"
   ]
  },
  {
   "cell_type": "code",
   "execution_count": 7,
   "id": "93bb174a-96d4-4a05-a012-f5b112bb11e3",
   "metadata": {},
   "outputs": [
    {
     "data": {
      "text/plain": [
       "Index(['store', 'day_of_week', 'date', 'sales', 'customers', 'open', 'promo',\n",
       "       'state_holiday', 'school_holiday', 'store_type', 'assortment',\n",
       "       'competition_distance', 'competition_open_since_month',\n",
       "       'competition_open_since_year', 'promo2', 'promo2_since_week',\n",
       "       'promo2_since_year', 'promo_interval'],\n",
       "      dtype='object')"
      ]
     },
     "execution_count": 7,
     "metadata": {},
     "output_type": "execute_result"
    }
   ],
   "source": [
    "df1.columns"
   ]
  },
  {
   "cell_type": "markdown",
   "id": "231e3fc6-2712-4a19-8e36-5b137e169597",
   "metadata": {},
   "source": [
    "## 1.2 - Data Dimesion"
   ]
  },
  {
   "cell_type": "code",
   "execution_count": 9,
   "id": "a6fe6b1d-4611-45d4-b3d1-a0f9c508826c",
   "metadata": {},
   "outputs": [
    {
     "name": "stdout",
     "output_type": "stream",
     "text": [
      "Number of rows: 1017209\n",
      "Number of cols: 18\n"
     ]
    }
   ],
   "source": [
    "print(\"Number of rows: {}\".format(df1.shape[0]))\n",
    "print(\"Number of cols: {}\".format(df1.shape[1]))"
   ]
  },
  {
   "cell_type": "markdown",
   "id": "278b192c-51e2-40aa-9279-547cd1834e0c",
   "metadata": {},
   "source": [
    "## 1.3 - Data Types"
   ]
  },
  {
   "cell_type": "code",
   "execution_count": 44,
   "id": "3f9f457f-eb57-4d28-85f3-3a6448ea760e",
   "metadata": {},
   "outputs": [
    {
     "data": {
      "text/plain": [
       "store                                    int64\n",
       "day_of_week                              int64\n",
       "date                            datetime64[ns]\n",
       "sales                                    int64\n",
       "customers                                int64\n",
       "open                                     int64\n",
       "promo                                    int64\n",
       "state_holiday                           object\n",
       "school_holiday                           int64\n",
       "store_type                              object\n",
       "assortment                              object\n",
       "competition_distance                   float64\n",
       "competition_open_since_month           float64\n",
       "competition_open_since_year            float64\n",
       "promo2                                   int64\n",
       "promo2_since_week                      float64\n",
       "promo2_since_year                      float64\n",
       "promo_interval                          object\n",
       "dtype: object"
      ]
     },
     "execution_count": 44,
     "metadata": {},
     "output_type": "execute_result"
    }
   ],
   "source": [
    "df1[\"date\"] = pd.to_datetime( df1[\"date\"] )\n",
    "df1.dtypes"
   ]
  },
  {
   "cell_type": "markdown",
   "id": "57aed605-0309-44e0-b3af-3df6d965349f",
   "metadata": {},
   "source": [
    "## 1.4 - Check NA"
   ]
  },
  {
   "cell_type": "code",
   "execution_count": 45,
   "id": "a8fecaf1-ed8f-4902-b5e7-421d6ffa6c6e",
   "metadata": {},
   "outputs": [
    {
     "data": {
      "text/plain": [
       "store                                0\n",
       "day_of_week                          0\n",
       "date                                 0\n",
       "sales                                0\n",
       "customers                            0\n",
       "open                                 0\n",
       "promo                                0\n",
       "state_holiday                        0\n",
       "school_holiday                       0\n",
       "store_type                           0\n",
       "assortment                           0\n",
       "competition_distance              2642\n",
       "competition_open_since_month    323348\n",
       "competition_open_since_year     323348\n",
       "promo2                               0\n",
       "promo2_since_week               508031\n",
       "promo2_since_year               508031\n",
       "promo_interval                  508031\n",
       "dtype: int64"
      ]
     },
     "execution_count": 45,
     "metadata": {},
     "output_type": "execute_result"
    }
   ],
   "source": [
    "df1.isna().sum()\n",
    "# por que os NA estão nessas colunas?"
   ]
  },
  {
   "cell_type": "markdown",
   "id": "daf23f0a-5dad-4e5a-aeb6-013b31bb946e",
   "metadata": {},
   "source": [
    "## 1.5 - Fillout NA"
   ]
  },
  {
   "cell_type": "code",
   "execution_count": 47,
   "id": "41a9cfb5-dd7f-437e-ba64-754c1a0b29e5",
   "metadata": {},
   "outputs": [],
   "source": [
    "# competition_distance\n",
    "# É a distância entre os competidores\n",
    "# subistitui os valores ausente pelo valor máximo encontrado nessa coluna;\n",
    "max_valor = df1[\"competition_distance\"].max()\n",
    "\n",
    "df1['competition_distance'] = df1['competition_distance'].apply(lambda x: max_valor if pd.isnull(x) else x)\n",
    "\n",
    "# competition_open_since_month\n",
    "# É um numero contendo o mês e ano que a loja competidora foi aberta\n",
    "# A lógica para a subistituição vai ser a extração do valor do mês da coluna data;\n",
    "df1['competition_open_since_month'] = df1['competition_open_since_month'].fillna(df1['date'].dt.month)\n",
    "\n",
    "# competition_open_since_year\n",
    "# A mesma lógica do exemplo anterior\n",
    "df1['competition_open_since_year'] = df1['competition_open_since_year'].fillna(df1['date'].dt.year)\n",
    "\n",
    "df1['promo2_since_week'] = df1.apply( lambda x: x['date'].week if math.isnan(x['promo2_since_week'] ) else x['promo2_since_week'], axis=1 )\n",
    "\n",
    "#promo2_since_year\n",
    "df1['promo2_since_year'] = df1.apply( lambda x: x['date'].year if math.isnan(x['promo2_since_year'] ) else x['promo2_since_year'], axis=1 )\n",
    "\n",
    "#promo_interval\n",
    "month_map = {1: 'Jan', 2: 'Fev', 3: 'Mar', 4: 'Apr', 5: 'May', 6: 'Jun', 7: 'Jul', 8: 'Aug', 9: 'Sep', 10: 'Oct', 11: 'Nov', 12: 'Dec'}\n",
    "\n",
    "df1['promo_interval'].fillna(0, inplace=True )\n",
    "df1['month_map'] = df1['date'].dt.month.map( month_map )\n",
    "\n",
    "df1['is_promo'] = df1[['promo_interval', 'month_map']].apply( lambda x: 0 if x['promo_interval'] == 0 else 1 if x['month_map'] in x['promo_interval'].split( ',' ) else 0, axis=1 )"
   ]
  },
  {
   "cell_type": "code",
   "execution_count": 15,
   "id": "3c02a426-f6aa-414b-bca0-b0a94a83015c",
   "metadata": {},
   "outputs": [
    {
     "data": {
      "text/plain": [
       "promo2\n",
       "1    509178\n",
       "0    508031\n",
       "Name: count, dtype: int64"
      ]
     },
     "execution_count": 15,
     "metadata": {},
     "output_type": "execute_result"
    }
   ],
   "source": [
    "df1[\"promo2\"].value_counts()"
   ]
  },
  {
   "cell_type": "markdown",
   "id": "e909df09-671f-40dd-bf09-11c8033a6c5a",
   "metadata": {},
   "source": [
    "## 1.6 - Change Types"
   ]
  },
  {
   "cell_type": "code",
   "execution_count": 33,
   "id": "7c138243-8f33-42af-bdca-7190fa42c925",
   "metadata": {},
   "outputs": [
    {
     "data": {
      "text/plain": [
       "store                                    int64\n",
       "day_of_week                              int64\n",
       "date                            datetime64[ns]\n",
       "sales                                    int64\n",
       "customers                                int64\n",
       "open                                     int64\n",
       "promo                                    int64\n",
       "state_holiday                           object\n",
       "school_holiday                           int64\n",
       "store_type                              object\n",
       "assortment                              object\n",
       "competition_distance                   float64\n",
       "competition_open_since_month             int64\n",
       "competition_open_since_year              int64\n",
       "promo2                                   int64\n",
       "promo2_since_week                        int64\n",
       "promo2_since_year                       object\n",
       "promo_interval                          object\n",
       "dtype: object"
      ]
     },
     "execution_count": 33,
     "metadata": {},
     "output_type": "execute_result"
    }
   ],
   "source": [
    "df1.dtypes"
   ]
  },
  {
   "cell_type": "code",
   "execution_count": 48,
   "id": "168256ab-e701-456b-949e-b916bc7f02d8",
   "metadata": {},
   "outputs": [
    {
     "data": {
      "text/plain": [
       "store                                    int64\n",
       "day_of_week                              int64\n",
       "date                            datetime64[ns]\n",
       "sales                                    int64\n",
       "customers                                int64\n",
       "open                                     int64\n",
       "promo                                    int64\n",
       "state_holiday                           object\n",
       "school_holiday                           int64\n",
       "store_type                              object\n",
       "assortment                              object\n",
       "competition_distance                   float64\n",
       "competition_open_since_month             int64\n",
       "competition_open_since_year              int64\n",
       "promo2                                   int64\n",
       "promo2_since_week                        int64\n",
       "promo2_since_year                        int64\n",
       "promo_interval                          object\n",
       "month_map                               object\n",
       "is_promo                                 int64\n",
       "dtype: object"
      ]
     },
     "execution_count": 48,
     "metadata": {},
     "output_type": "execute_result"
    }
   ],
   "source": [
    "df1[\"competition_open_since_month\"] = df1[\"competition_open_since_month\"].astype(int) \n",
    "df1[\"competition_open_since_year\"] =  df1[\"competition_open_since_year\"].astype(int)\n",
    "df1[\"promo2_since_week\"] =  df1[\"promo2_since_week\"].astype(int)\n",
    "df1[\"promo2_since_year\"] =  df1[\"promo2_since_year\"].astype(int)\n",
    "df1.dtypes"
   ]
  },
  {
   "cell_type": "markdown",
   "id": "0ce87ebd-0bde-4657-9daa-52935de3320e",
   "metadata": {},
   "source": [
    "## 1.6 - Description Statiscal"
   ]
  },
  {
   "cell_type": "code",
   "execution_count": 25,
   "id": "5689e09e-6e7c-47fa-bbcb-73075480866c",
   "metadata": {},
   "outputs": [],
   "source": [
    "num_attributes = df1.select_dtypes( include = ['int64', 'float64'] )\n",
    "cat_attributes = df1.select_dtypes( exclude = ['int64', 'float64', 'datetime64[ns]'] )"
   ]
  },
  {
   "cell_type": "code",
   "execution_count": 28,
   "id": "37d8a6d9-f464-44f5-97d7-ff327a08000e",
   "metadata": {},
   "outputs": [
    {
     "data": {
      "text/html": [
       "<div>\n",
       "<style scoped>\n",
       "    .dataframe tbody tr th:only-of-type {\n",
       "        vertical-align: middle;\n",
       "    }\n",
       "\n",
       "    .dataframe tbody tr th {\n",
       "        vertical-align: top;\n",
       "    }\n",
       "\n",
       "    .dataframe thead th {\n",
       "        text-align: right;\n",
       "    }\n",
       "</style>\n",
       "<table border=\"1\" class=\"dataframe\">\n",
       "  <thead>\n",
       "    <tr style=\"text-align: right;\">\n",
       "      <th></th>\n",
       "      <th>state_holiday</th>\n",
       "      <th>store_type</th>\n",
       "      <th>assortment</th>\n",
       "      <th>promo_interval</th>\n",
       "    </tr>\n",
       "  </thead>\n",
       "  <tbody>\n",
       "    <tr>\n",
       "      <th>521454</th>\n",
       "      <td>0</td>\n",
       "      <td>d</td>\n",
       "      <td>c</td>\n",
       "      <td>Jan,Apr,Jul,Oct</td>\n",
       "    </tr>\n",
       "    <tr>\n",
       "      <th>246836</th>\n",
       "      <td>0</td>\n",
       "      <td>d</td>\n",
       "      <td>c</td>\n",
       "      <td>Jan,Apr,Jul,Oct</td>\n",
       "    </tr>\n",
       "  </tbody>\n",
       "</table>\n",
       "</div>"
      ],
      "text/plain": [
       "       state_holiday store_type assortment   promo_interval\n",
       "521454             0          d          c  Jan,Apr,Jul,Oct\n",
       "246836             0          d          c  Jan,Apr,Jul,Oct"
      ]
     },
     "execution_count": 28,
     "metadata": {},
     "output_type": "execute_result"
    }
   ],
   "source": [
    "cat_attributes.sample(2)"
   ]
  },
  {
   "cell_type": "code",
   "execution_count": 62,
   "id": "ca6365cf-43f3-4b5f-89b8-7462bc91ea03",
   "metadata": {},
   "outputs": [],
   "source": [
    "# Central Tendency \n",
    "ct1 = pd.DataFrame( num_attributes.apply( np.mean ) ).T\n",
    "ct2 = pd.DataFrame( num_attributes.apply( np.median ) ).T\n",
    "\n",
    "# Dispersion Tendency\n",
    "\n",
    "d1 = pd.DataFrame( num_attributes.apply( np.std ) ).T\n",
    "d2 = pd.DataFrame( num_attributes.apply( np.max ) ).T\n",
    "d3 = pd.DataFrame( num_attributes.apply( np.min ) ).T\n",
    "d4 = pd.DataFrame( num_attributes.apply( lambda x: x.max( ) - x.min( ) ) ). T\n",
    "d5 = pd.DataFrame( num_attributes.apply( lambda x: x.skew( ) ) ). T\n",
    "d6 = pd.DataFrame( num_attributes.apply( lambda x: x.kurtosis( ) ) ). T\n",
    "\n",
    "# Concat\n",
    "\n",
    "m = pd.concat( [d3, d2, d4, ct1, ct2, d1, d5, d6] ).T\n",
    "m.columns = ['min', 'max', 'range', 'mean', 'median', 'std', 'skew', 'kurtosis' ] "
   ]
  },
  {
   "cell_type": "code",
   "execution_count": 63,
   "id": "9c02d06f-9bee-4f92-82f2-0037ab1b93bb",
   "metadata": {},
   "outputs": [
    {
     "data": {
      "text/html": [
       "<div>\n",
       "<style scoped>\n",
       "    .dataframe tbody tr th:only-of-type {\n",
       "        vertical-align: middle;\n",
       "    }\n",
       "\n",
       "    .dataframe tbody tr th {\n",
       "        vertical-align: top;\n",
       "    }\n",
       "\n",
       "    .dataframe thead th {\n",
       "        text-align: right;\n",
       "    }\n",
       "</style>\n",
       "<table border=\"1\" class=\"dataframe\">\n",
       "  <thead>\n",
       "    <tr style=\"text-align: right;\">\n",
       "      <th></th>\n",
       "      <th>min</th>\n",
       "      <th>max</th>\n",
       "      <th>range</th>\n",
       "      <th>mean</th>\n",
       "      <th>median</th>\n",
       "      <th>std</th>\n",
       "      <th>skew</th>\n",
       "      <th>kurtosis</th>\n",
       "    </tr>\n",
       "  </thead>\n",
       "  <tbody>\n",
       "    <tr>\n",
       "      <th>store</th>\n",
       "      <td>1.0</td>\n",
       "      <td>1115.0</td>\n",
       "      <td>1114.0</td>\n",
       "      <td>558.429727</td>\n",
       "      <td>558.0</td>\n",
       "      <td>321.908493</td>\n",
       "      <td>-0.000955</td>\n",
       "      <td>-1.200524</td>\n",
       "    </tr>\n",
       "    <tr>\n",
       "      <th>day_of_week</th>\n",
       "      <td>1.0</td>\n",
       "      <td>7.0</td>\n",
       "      <td>6.0</td>\n",
       "      <td>3.998341</td>\n",
       "      <td>4.0</td>\n",
       "      <td>1.997390</td>\n",
       "      <td>0.001593</td>\n",
       "      <td>-1.246873</td>\n",
       "    </tr>\n",
       "    <tr>\n",
       "      <th>sales</th>\n",
       "      <td>0.0</td>\n",
       "      <td>41551.0</td>\n",
       "      <td>41551.0</td>\n",
       "      <td>5773.818972</td>\n",
       "      <td>5744.0</td>\n",
       "      <td>3849.924283</td>\n",
       "      <td>0.641460</td>\n",
       "      <td>1.778375</td>\n",
       "    </tr>\n",
       "    <tr>\n",
       "      <th>customers</th>\n",
       "      <td>0.0</td>\n",
       "      <td>7388.0</td>\n",
       "      <td>7388.0</td>\n",
       "      <td>633.145946</td>\n",
       "      <td>609.0</td>\n",
       "      <td>464.411506</td>\n",
       "      <td>1.598650</td>\n",
       "      <td>7.091773</td>\n",
       "    </tr>\n",
       "    <tr>\n",
       "      <th>open</th>\n",
       "      <td>0.0</td>\n",
       "      <td>1.0</td>\n",
       "      <td>1.0</td>\n",
       "      <td>0.830107</td>\n",
       "      <td>1.0</td>\n",
       "      <td>0.375539</td>\n",
       "      <td>-1.758045</td>\n",
       "      <td>1.090723</td>\n",
       "    </tr>\n",
       "    <tr>\n",
       "      <th>promo</th>\n",
       "      <td>0.0</td>\n",
       "      <td>1.0</td>\n",
       "      <td>1.0</td>\n",
       "      <td>0.381515</td>\n",
       "      <td>0.0</td>\n",
       "      <td>0.485758</td>\n",
       "      <td>0.487838</td>\n",
       "      <td>-1.762018</td>\n",
       "    </tr>\n",
       "    <tr>\n",
       "      <th>school_holiday</th>\n",
       "      <td>0.0</td>\n",
       "      <td>1.0</td>\n",
       "      <td>1.0</td>\n",
       "      <td>0.178647</td>\n",
       "      <td>0.0</td>\n",
       "      <td>0.383056</td>\n",
       "      <td>1.677842</td>\n",
       "      <td>0.815154</td>\n",
       "    </tr>\n",
       "    <tr>\n",
       "      <th>competition_distance</th>\n",
       "      <td>20.0</td>\n",
       "      <td>75860.0</td>\n",
       "      <td>75840.0</td>\n",
       "      <td>5613.013481</td>\n",
       "      <td>2330.0</td>\n",
       "      <td>8498.334094</td>\n",
       "      <td>3.599472</td>\n",
       "      <td>19.780674</td>\n",
       "    </tr>\n",
       "    <tr>\n",
       "      <th>competition_open_since_month</th>\n",
       "      <td>1.0</td>\n",
       "      <td>12.0</td>\n",
       "      <td>11.0</td>\n",
       "      <td>6.786849</td>\n",
       "      <td>7.0</td>\n",
       "      <td>3.311085</td>\n",
       "      <td>-0.042076</td>\n",
       "      <td>-1.232607</td>\n",
       "    </tr>\n",
       "    <tr>\n",
       "      <th>competition_open_since_year</th>\n",
       "      <td>1900.0</td>\n",
       "      <td>2015.0</td>\n",
       "      <td>115.0</td>\n",
       "      <td>2010.324840</td>\n",
       "      <td>2012.0</td>\n",
       "      <td>5.515591</td>\n",
       "      <td>-7.235657</td>\n",
       "      <td>124.071304</td>\n",
       "    </tr>\n",
       "    <tr>\n",
       "      <th>promo2</th>\n",
       "      <td>0.0</td>\n",
       "      <td>1.0</td>\n",
       "      <td>1.0</td>\n",
       "      <td>0.500564</td>\n",
       "      <td>1.0</td>\n",
       "      <td>0.500000</td>\n",
       "      <td>-0.002255</td>\n",
       "      <td>-1.999999</td>\n",
       "    </tr>\n",
       "    <tr>\n",
       "      <th>promo2_since_week</th>\n",
       "      <td>1.0</td>\n",
       "      <td>50.0</td>\n",
       "      <td>49.0</td>\n",
       "      <td>23.269093</td>\n",
       "      <td>NaN</td>\n",
       "      <td>14.095959</td>\n",
       "      <td>0.104528</td>\n",
       "      <td>-1.369929</td>\n",
       "    </tr>\n",
       "    <tr>\n",
       "      <th>promo2_since_year</th>\n",
       "      <td>2009.0</td>\n",
       "      <td>2015.0</td>\n",
       "      <td>6.0</td>\n",
       "      <td>2011.752774</td>\n",
       "      <td>NaN</td>\n",
       "      <td>1.662869</td>\n",
       "      <td>-0.120060</td>\n",
       "      <td>-1.040662</td>\n",
       "    </tr>\n",
       "  </tbody>\n",
       "</table>\n",
       "</div>"
      ],
      "text/plain": [
       "                                 min      max    range         mean  median  \\\n",
       "store                            1.0   1115.0   1114.0   558.429727   558.0   \n",
       "day_of_week                      1.0      7.0      6.0     3.998341     4.0   \n",
       "sales                            0.0  41551.0  41551.0  5773.818972  5744.0   \n",
       "customers                        0.0   7388.0   7388.0   633.145946   609.0   \n",
       "open                             0.0      1.0      1.0     0.830107     1.0   \n",
       "promo                            0.0      1.0      1.0     0.381515     0.0   \n",
       "school_holiday                   0.0      1.0      1.0     0.178647     0.0   \n",
       "competition_distance            20.0  75860.0  75840.0  5613.013481  2330.0   \n",
       "competition_open_since_month     1.0     12.0     11.0     6.786849     7.0   \n",
       "competition_open_since_year   1900.0   2015.0    115.0  2010.324840  2012.0   \n",
       "promo2                           0.0      1.0      1.0     0.500564     1.0   \n",
       "promo2_since_week                1.0     50.0     49.0    23.269093     NaN   \n",
       "promo2_since_year             2009.0   2015.0      6.0  2011.752774     NaN   \n",
       "\n",
       "                                      std      skew    kurtosis  \n",
       "store                          321.908493 -0.000955   -1.200524  \n",
       "day_of_week                      1.997390  0.001593   -1.246873  \n",
       "sales                         3849.924283  0.641460    1.778375  \n",
       "customers                      464.411506  1.598650    7.091773  \n",
       "open                             0.375539 -1.758045    1.090723  \n",
       "promo                            0.485758  0.487838   -1.762018  \n",
       "school_holiday                   0.383056  1.677842    0.815154  \n",
       "competition_distance          8498.334094  3.599472   19.780674  \n",
       "competition_open_since_month     3.311085 -0.042076   -1.232607  \n",
       "competition_open_since_year      5.515591 -7.235657  124.071304  \n",
       "promo2                           0.500000 -0.002255   -1.999999  \n",
       "promo2_since_week               14.095959  0.104528   -1.369929  \n",
       "promo2_since_year                1.662869 -0.120060   -1.040662  "
      ]
     },
     "execution_count": 63,
     "metadata": {},
     "output_type": "execute_result"
    }
   ],
   "source": [
    "m"
   ]
  },
  {
   "cell_type": "code",
   "execution_count": null,
   "id": "233e6110-c23e-40a9-b4b6-806747d6ba25",
   "metadata": {},
   "outputs": [],
   "source": [
    "# Análise: Na feature de vendas temos um valor mínimo de 0 e máximo de R$ 41551, \n",
    "# uma skew próxima de zero e a kurtosis próxima de 1 indica que os dados estão normais."
   ]
  },
  {
   "cell_type": "code",
   "execution_count": 70,
   "id": "f9c34490-14eb-4830-850e-e9a93b490a29",
   "metadata": {},
   "outputs": [
    {
     "name": "stderr",
     "output_type": "stream",
     "text": [
      "/tmp/ipykernel_163958/1848217301.py:1: UserWarning: \n",
      "\n",
      "`distplot` is a deprecated function and will be removed in seaborn v0.14.0.\n",
      "\n",
      "Please adapt your code to use either `displot` (a figure-level function with\n",
      "similar flexibility) or `histplot` (an axes-level function for histograms).\n",
      "\n",
      "For a guide to updating your code to use the new functions, please see\n",
      "https://gist.github.com/mwaskom/de44147ed2974457ad6372750bbe5751\n",
      "\n",
      "  sns.distplot( df1[\"sales\"] )\n",
      "/home/aderaldo/anaconda3/envs/DataScienceEmProducao/lib/python3.9/site-packages/seaborn/_oldcore.py:1119: FutureWarning: use_inf_as_na option is deprecated and will be removed in a future version. Convert inf values to NaN before operating instead.\n",
      "  with pd.option_context('mode.use_inf_as_na', True):\n"
     ]
    },
    {
     "data": {
      "text/plain": [
       "<Axes: xlabel='sales', ylabel='Density'>"
      ]
     },
     "execution_count": 70,
     "metadata": {},
     "output_type": "execute_result"
    },
    {
     "data": {
      "image/png": "[encoded data removed]",
      "text/plain": [
       "<Figure size 640x480 with 1 Axes>"
      ]
     },
     "metadata": {},
     "output_type": "display_data"
    }
   ],
   "source": [
    "sns.distplot( df1[\"sales\"] )"
   ]
  },
  {
   "cell_type": "code",
   "execution_count": 72,
   "id": "a538fd84-b5e9-4623-9607-44410e4b1e54",
   "metadata": {},
   "outputs": [
    {
     "data": {
      "text/plain": [
       "state_holiday     4\n",
       "store_type        4\n",
       "assortment        3\n",
       "promo_interval    4\n",
       "dtype: int64"
      ]
     },
     "execution_count": 72,
     "metadata": {},
     "output_type": "execute_result"
    }
   ],
   "source": [
    "cat_attributes.apply( lambda x: x.unique().shape[0] )"
   ]
  },
  {
   "cell_type": "code",
   "execution_count": 81,
   "id": "21e9e101-a75d-4b29-ad8e-20de2186a1a9",
   "metadata": {},
   "outputs": [
    {
     "data": {
      "text/plain": [
       "<Axes: xlabel='assortment', ylabel='sales'>"
      ]
     },
     "execution_count": 81,
     "metadata": {},
     "output_type": "execute_result"
    },
    {
     "data": {
      "image/png": "[encoded data removed]",
      "text/plain": [
       "<Figure size 1800x600 with 3 Axes>"
      ]
     },
     "metadata": {},
     "output_type": "display_data"
    }
   ],
   "source": [
    "# Fazendo um filtro para retirar os dias em que a loja não esteve fechada\n",
    "aux1 = df1[(df1['sales'] > 0 ) & ( df1['state_holiday'] != '0')]\n",
    "plt.figure(figsize=(18, 6))\n",
    "\n",
    "plt.subplot( 1, 3, 1)\n",
    "sns.boxplot( x = 'state_holiday', y ='sales', data = aux1)\n",
    "\n",
    "plt.subplot( 1, 3, 2)\n",
    "sns.boxplot( x = 'store_type', y ='sales', data = aux1)\n",
    "\n",
    "plt.subplot( 1, 3, 3)\n",
    "sns.boxplot( x = 'assortment', y ='sales', data = aux1)\n"
   ]
  },
  {
   "cell_type": "code",
   "execution_count": null,
   "id": "8e3e9480-8b14-435d-b5e4-c9b17ed0599f",
   "metadata": {},
   "outputs": [],
   "source": [
    "# Assortment: Variedade de produtos ou itens.\n",
    "# O tamanho da caixa(box) não está diretamente relacionado ao volume de vendas."
   ]
  },
  {
   "cell_type": "markdown",
   "id": "e02f65f7-9314-45f7-854f-cbc6c6ef4d97",
   "metadata": {},
   "source": [
    "# 2.0 - Hypoteses Mindmap"
   ]
  },
  {
   "cell_type": "code",
   "execution_count": null,
   "id": "18282a2f-4988-4017-b30c-65513b9b6759",
   "metadata": {},
   "outputs": [],
   "source": []
  },
  {
   "cell_type": "code",
   "execution_count": 6,
   "id": "6414c4cb-e544-48b1-9a38-107ffc919311",
   "metadata": {},
   "outputs": [
    {
     "data": {
      "image/png": "[encoded data removed]",
      "text/plain": [
       "<IPython.core.display.Image object>"
      ]
     },
     "execution_count": 6,
     "metadata": {},
     "output_type": "execute_result"
    }
   ],
   "source": [
    "Image( '/home/aderaldo/estudos/comunidade_ds/Imagens/DAILY_STORE_SALES.png' )\n",
    "\n"
   ]
  },
  {
   "cell_type": "markdown",
   "id": "8a39a435-934f-4983-963d-6ff1f4a7fd4d",
   "metadata": {},
   "source": [
    "## 2.1 - HYPOTHESES"
   ]
  },
  {
   "cell_type": "markdown",
   "id": "ecd94fb5-9e7f-4588-a800-d5bfb25e45b5",
   "metadata": {},
   "source": [
    "**1.** Lojas com maior sortimentos deveriam vender mais.\n",
    "\n",
    "**2.** Lojas com competidores mais próximos deveriam vender menos.\n",
    "    \n",
    "**3.** Lojas com competidores à mais tempo deveriam vendem mais.\n",
    "    \n",
    "**4.** Lojas com promoções ativas por mais tempo deveriam vender mais.\n",
    "\n",
    "**5.** Lojas com mais dias de promoção deveriam vender mais.\n",
    "\n",
    "**6.** Lojas com mais promoções consecutivas deveriam vender mais.\n",
    "\n",
    "**7.** Lojas abertas durante o feriado de Natal deveriam vender mais.\n",
    "\n",
    "**8.** Lojas deveriam vender mais ao longo dos anos.\n",
    "\n",
    "**9.** Lojas deveriam vender mais no segundo semestre do ano.\n",
    "\n",
    "**10.** Lojas deveriam vender mais depois do dia 10 de cada mês.\n",
    "\n",
    "**11.** Lojas deveriam vender menos aos finais de semana.\n",
    "\n",
    "**12.** Lojas deveriam vender menos durante os feriados escolares"
   ]
  },
  {
   "cell_type": "markdown",
   "id": "1eabc634-ddda-4624-856d-43be320f7da5",
   "metadata": {},
   "source": [
    "# 3.0 - Feature Engineering"
   ]
  },
  {
   "cell_type": "code",
   "execution_count": 49,
   "id": "912a2f53-dd14-42db-9b47-293fc1259f9f",
   "metadata": {},
   "outputs": [],
   "source": [
    "df2 = df1.copy()"
   ]
  },
  {
   "cell_type": "code",
   "execution_count": 58,
   "id": "1a29d9f0-b7c7-468a-a9cf-056ebfac3451",
   "metadata": {},
   "outputs": [],
   "source": [
    "# year\n",
    "df2['year'] = df2['date'].dt.year\n",
    "# month\n",
    "df2['month'] = df2['date'].dt.month\n",
    "# day\n",
    "df2['day'] = df2['date'].dt.day\n",
    "# week of year\n",
    "df2['week_of_year'] = df2['date'].dt.strftime(\"%W-%Y\")\n",
    "# year week\n",
    "df2['year_of_week'] = df2['date'].dt.strftime(\"%Y-%W\")\n",
    "\n",
    "# competition since\n",
    "df2[\"competition_since\"] = df2.apply( lambda x : datetime( year = x[\"competition_open_since_year\"], month = x[\"competition_open_since_month\"], day =1), axis = 1 )\n",
    "df2[\"competition_time_month\"] = ((df2[\"date\"] - df2[\"competition_since\"]) / 30).apply( lambda x : x.days).astype(int)\n",
    "# calculo da diferença entre as datas, mantendo a granulalidade mínima por mês. Extraindo o valor e convertendo para inteiro\n",
    "\n",
    "# promo since\n",
    "df2['promo_since'] = df2['promo2_since_year'].astype( str ) + '-' + df2['promo2_since_week'].astype( str )\n",
    "df2['promo_since'] = df2['promo_since'].apply( lambda x: datetime.strptime( x + '-1', '%Y-%W-%w' ) - timedelta( days=7 ) )\n",
    "\n",
    "df2[\"promo_time_week\"] = ((df2[\"date\"] - df2[\"promo_since\"]) / 7).apply( lambda x : x.days).astype( int)\n",
    "\n",
    "# assortmant\n",
    "\n",
    "df2['assortment'] = df2['assortment'].apply(lambda x : 'basic' if x == 'a' else 'extra' if x == 'b' else 'extended')\n",
    "\n",
    "# state holiday\n",
    "\n",
    "df2[\"state_holiday\"] = df2[\"state_holiday\"].apply( lambda x: 'public_holiday' if x == 'a' else 'easter_holiday' if x == 'b' else 'christhmas' if x == 'c' else 'regular_day')"
   ]
  },
  {
   "cell_type": "code",
   "execution_count": 56,
   "id": "1baf3c33-611b-461b-bf2a-bd34f69d6465",
   "metadata": {},
   "outputs": [
    {
     "data": {
      "text/html": [
       "<div>\n",
       "<style scoped>\n",
       "    .dataframe tbody tr th:only-of-type {\n",
       "        vertical-align: middle;\n",
       "    }\n",
       "\n",
       "    .dataframe tbody tr th {\n",
       "        vertical-align: top;\n",
       "    }\n",
       "\n",
       "    .dataframe thead th {\n",
       "        text-align: right;\n",
       "    }\n",
       "</style>\n",
       "<table border=\"1\" class=\"dataframe\">\n",
       "  <thead>\n",
       "    <tr style=\"text-align: right;\">\n",
       "      <th></th>\n",
       "      <th>store</th>\n",
       "      <th>day_of_week</th>\n",
       "      <th>date</th>\n",
       "      <th>sales</th>\n",
       "      <th>customers</th>\n",
       "      <th>open</th>\n",
       "      <th>promo</th>\n",
       "      <th>state_holiday</th>\n",
       "      <th>school_holiday</th>\n",
       "      <th>store_type</th>\n",
       "      <th>...</th>\n",
       "      <th>month_map</th>\n",
       "      <th>is_promo</th>\n",
       "      <th>year</th>\n",
       "      <th>month</th>\n",
       "      <th>day</th>\n",
       "      <th>week_of_year</th>\n",
       "      <th>year_of_week</th>\n",
       "      <th>competition_since</th>\n",
       "      <th>competition_time_month</th>\n",
       "      <th>promo_since</th>\n",
       "    </tr>\n",
       "  </thead>\n",
       "  <tbody>\n",
       "    <tr>\n",
       "      <th>430384</th>\n",
       "      <td>780</td>\n",
       "      <td>3</td>\n",
       "      <td>2014-06-11</td>\n",
       "      <td>5282</td>\n",
       "      <td>693</td>\n",
       "      <td>1</td>\n",
       "      <td>0</td>\n",
       "      <td>0</td>\n",
       "      <td>0</td>\n",
       "      <td>a</td>\n",
       "      <td>...</td>\n",
       "      <td>Jun</td>\n",
       "      <td>0</td>\n",
       "      <td>2014</td>\n",
       "      <td>6</td>\n",
       "      <td>11</td>\n",
       "      <td>23-2014</td>\n",
       "      <td>2014-23</td>\n",
       "      <td>2014-06-01</td>\n",
       "      <td>0</td>\n",
       "      <td>2014-06-09</td>\n",
       "    </tr>\n",
       "  </tbody>\n",
       "</table>\n",
       "<p>1 rows × 28 columns</p>\n",
       "</div>"
      ],
      "text/plain": [
       "        store  day_of_week       date  sales  customers  open  promo  \\\n",
       "430384    780            3 2014-06-11   5282        693     1      0   \n",
       "\n",
       "       state_holiday  school_holiday store_type  ... month_map  is_promo  \\\n",
       "430384             0               0          a  ...       Jun         0   \n",
       "\n",
       "        year  month  day  week_of_year  year_of_week competition_since  \\\n",
       "430384  2014      6   11       23-2014       2014-23        2014-06-01   \n",
       "\n",
       "       competition_time_month  promo_since  \n",
       "430384                      0   2014-06-09  \n",
       "\n",
       "[1 rows x 28 columns]"
      ]
     },
     "execution_count": 56,
     "metadata": {},
     "output_type": "execute_result"
    }
   ],
   "source": [
    "df2.sample()"
   ]
  }
 ],
 "metadata": {
  "kernelspec": {
   "display_name": "Python 3 (ipykernel)",
   "language": "python",
   "name": "python3"
  },
  "language_info": {
   "codemirror_mode": {
    "name": "ipython",
    "version": 3
   },
   "file_extension": ".py",
   "mimetype": "text/x-python",
   "name": "python",
   "nbconvert_exporter": "python",
   "pygments_lexer": "ipython3",
   "version": "3.9.18"
  }
 },
 "nbformat": 4,
 "nbformat_minor": 5
}
